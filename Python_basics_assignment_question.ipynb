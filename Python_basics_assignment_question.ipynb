{
  "cells": [
    {
      "cell_type": "markdown",
      "metadata": {
        "id": "view-in-github",
        "colab_type": "text"
      },
      "source": [
        "<a href=\"https://colab.research.google.com/github/sagarmohanty/Applied_AI_Course_Notes/blob/master/Python_basics_assignment_question.ipynb\" target=\"_parent\"><img src=\"https://colab.research.google.com/assets/colab-badge.svg\" alt=\"Open In Colab\"/></a>"
      ]
    },
    {
      "cell_type": "markdown",
      "metadata": {
        "id": "qumfwPUW_lvC"
      },
      "source": [
        "# Lesson 1.2: Python Basics\n",
        "## Topics Covered:\n",
        "- Syntax and Semantics\n",
        "- Variables and Data Types\n",
        "- Basic Operators (Arithmetic, Comparison, Logical)\n"
      ]
    },
    {
      "cell_type": "markdown",
      "metadata": {
        "id": "QSvQSxZb_lvG"
      },
      "source": [
        "## 1. Syntax and Semantics\n",
        "\n",
        "**Question 1:** Write a Python program to print \"Hello, World!\"."
      ]
    },
    {
      "cell_type": "code",
      "metadata": {
        "id": "HXvKlwg6_lvH"
      },
      "outputs": [],
      "source": [
        "print(\"Hello, World!\")"
      ],
      "execution_count": null
    },
    {
      "cell_type": "markdown",
      "metadata": {
        "id": "AT1u0Zx9_lvJ"
      },
      "source": [
        "**Question 2:** Write a Python program that takes a user input and prints it."
      ]
    },
    {
      "cell_type": "code",
      "metadata": {
        "colab": {
          "base_uri": "https://localhost:8080/"
        },
        "id": "YTd0S5s9_lvJ",
        "outputId": "186a0cf6-5b3a-4cde-e842-42d41a18363a"
      },
      "outputs": [
        {
          "output_type": "stream",
          "name": "stdout",
          "text": [
            "Enter a number3\n",
            "3\n"
          ]
        }
      ],
      "source": [
        "x=int(input(\"Enter a number\"))\n",
        "print(x)"
      ],
      "execution_count": 11
    },
    {
      "cell_type": "markdown",
      "metadata": {
        "id": "GeRHBEPH_lvK"
      },
      "source": [
        "**Question 3:** Write a Python program to check if a number is positive, negative, or zero."
      ]
    },
    {
      "cell_type": "code",
      "metadata": {
        "colab": {
          "base_uri": "https://localhost:8080/"
        },
        "id": "mX9NP-4u_lvK",
        "outputId": "b69f2314-5039-4eed-b051-0039b72b6a57"
      },
      "outputs": [
        {
          "output_type": "stream",
          "name": "stdout",
          "text": [
            "Enter a number:0\n",
            "The number is zero\n"
          ]
        }
      ],
      "source": [
        "x=int(input(\"Enter a number:\"))\n",
        "if(x>0):\n",
        "  print(\"The number is positive\")\n",
        "elif x<0:\n",
        "    print(\"The number is negative\")\n",
        "else:\n",
        "      print(\"The number is zero\")"
      ],
      "execution_count": 3
    },
    {
      "cell_type": "markdown",
      "metadata": {
        "id": "oRrV7UC4_lvL"
      },
      "source": [
        "**Question 4:** Write a Python program to find the largest of three numbers."
      ]
    },
    {
      "cell_type": "code",
      "source": [
        "num1=int(input(\"Enter the first number:\"))\n",
        "num2=int (input(\"enter the second number:\"))\n",
        "num3=int(input(\"enter the third number:\"))\n",
        "if(num1>=num2 and num1>=num3):\n",
        "  print(\"The largest number is\",num1)\n",
        "elif(num2>num3):\n",
        "  print(\"The largest number is\",num2)\n",
        "else:\n",
        "  print(\"The largest number is\",num3)"
      ],
      "metadata": {
        "colab": {
          "base_uri": "https://localhost:8080/"
        },
        "id": "LroCA432C7Mv",
        "outputId": "b9adaaa6-cd7e-4477-caf7-3c231c3b2e22"
      },
      "execution_count": 4,
      "outputs": [
        {
          "output_type": "stream",
          "name": "stdout",
          "text": [
            "Enter the first number:5\n",
            "enter the second number:4\n",
            "enter the third number:7\n",
            "The largest number is 7\n"
          ]
        }
      ]
    },
    {
      "cell_type": "markdown",
      "metadata": {
        "id": "xI5zRh8U_lvM"
      },
      "source": [
        "**Question 5:** Write a Python program to calculate the factorial of a number."
      ]
    },
    {
      "cell_type": "code",
      "metadata": {
        "colab": {
          "base_uri": "https://localhost:8080/"
        },
        "id": "UB_vmHfF_lvM",
        "outputId": "7e458ec9-a518-4f0c-d0b4-da5ae9e0dc0a"
      },
      "outputs": [
        {
          "output_type": "stream",
          "name": "stdout",
          "text": [
            "Enter the number7\n",
            "The factorial of 7 is 5040\n"
          ]
        }
      ],
      "source": [
        "num1=int(input(\"Enter the number\"))\n",
        "fact=1\n",
        "for i in range(1,num1+1):\n",
        "  fact=fact*i\n",
        "print(\"The factorial of\",num1,\"is\",fact)\n"
      ],
      "execution_count": 10
    },
    {
      "cell_type": "markdown",
      "metadata": {
        "id": "zngGdzpV_lvN"
      },
      "source": [
        "## 2. Variables and Data Types\n",
        "\n",
        "**Question 6:** Create variables of different data types: integer, float, string, and boolean. Print their values and types."
      ]
    },
    {
      "cell_type": "code",
      "metadata": {
        "id": "tBU_3-rp_lvN"
      },
      "outputs": [],
      "source": [
        "# Your code here"
      ],
      "execution_count": null
    },
    {
      "cell_type": "markdown",
      "metadata": {
        "id": "7DFCXQRo_lvN"
      },
      "source": [
        "**Question 7:** Write a Python program to swap the values of two variables."
      ]
    },
    {
      "cell_type": "code",
      "metadata": {
        "colab": {
          "base_uri": "https://localhost:8080/"
        },
        "id": "gUbrvhOd_lvO",
        "outputId": "339788d5-3de1-4cb5-d39f-b4d2278cc479"
      },
      "outputs": [
        {
          "output_type": "stream",
          "name": "stdout",
          "text": [
            "Enter the first number3\n",
            "Enter the second number4\n",
            "The first number is 4\n",
            "The second number is 3\n"
          ]
        }
      ],
      "source": [
        "# Your code here\n",
        "num1=int(input(\"Enter the first number\"))\n",
        "num2=int(input(\"Enter the second number\"))\n",
        "num1,num2=num2,num1\n",
        "print(\"The first number is\",num1)\n",
        "print(\"The second number is\",num2)"
      ],
      "execution_count": 12
    },
    {
      "cell_type": "markdown",
      "metadata": {
        "id": "g-Mr-Rog_lvO"
      },
      "source": [
        "**Question 8:** Write a Python program to convert Celsius to Fahrenheit."
      ]
    },
    {
      "cell_type": "code",
      "metadata": {
        "colab": {
          "base_uri": "https://localhost:8080/"
        },
        "id": "6IaAv-Uz_lvO",
        "outputId": "c573a4a7-2e60-4c59-df6c-03e9ae2be5e7"
      },
      "outputs": [
        {
          "output_type": "stream",
          "name": "stdout",
          "text": [
            "Enter the temperature in celsius32\n",
            "the temperature in farenheit is 89.6\n"
          ]
        }
      ],
      "source": [
        "# Your code here\n",
        "celsius=float(input(\"Enter the temperature in celsius\"))\n",
        "farenheit=(celsius*9/5)+32\n",
        "print(\"the temperature in farenheit is\",farenheit)"
      ],
      "execution_count": 13
    },
    {
      "cell_type": "markdown",
      "metadata": {
        "id": "ojIJSCRR_lvP"
      },
      "source": [
        "**Question 9:** Write a Python program to concatenate two strings."
      ]
    },
    {
      "cell_type": "code",
      "metadata": {
        "id": "ixwM4QsC_lvP"
      },
      "outputs": [],
      "source": [
        "# Your code here"
      ],
      "execution_count": null
    },
    {
      "cell_type": "markdown",
      "metadata": {
        "id": "z-S-glOE_lvP"
      },
      "source": [
        "**Question 10:** Write a Python program to check if a variable is of a specific data type."
      ]
    },
    {
      "cell_type": "code",
      "metadata": {
        "id": "UPZmR1Dk_lvQ"
      },
      "outputs": [],
      "source": [
        "# Your code here"
      ],
      "execution_count": null
    },
    {
      "cell_type": "markdown",
      "metadata": {
        "id": "uWWkvlr7_lvQ"
      },
      "source": [
        "## 3. Basic Operators (Arithmetic, Comparison, Logical)\n",
        "\n",
        "**Question 11:** Write a Python program to perform arithmetic operations: addition, subtraction, multiplication, and division."
      ]
    },
    {
      "cell_type": "code",
      "metadata": {
        "id": "ULwNJs3m_lvR"
      },
      "outputs": [],
      "source": [
        "# Your code here"
      ],
      "execution_count": null
    },
    {
      "cell_type": "markdown",
      "metadata": {
        "id": "9sZCCQB1_lvR"
      },
      "source": [
        "**Question 12:** Write a Python program to demonstrate comparison operators: equal to, not equal to, greater than, less than."
      ]
    },
    {
      "cell_type": "code",
      "metadata": {
        "id": "jm7wEAU4_lvR"
      },
      "outputs": [],
      "source": [
        "# Your code here"
      ],
      "execution_count": null
    },
    {
      "cell_type": "markdown",
      "metadata": {
        "id": "o2VLkL_Z_lvS"
      },
      "source": [
        "**Question 13:** Write a Python program to demonstrate logical operators: and, or, not."
      ]
    },
    {
      "cell_type": "code",
      "metadata": {
        "id": "ZDsUChgx_lvS"
      },
      "outputs": [],
      "source": [
        "# Your code here"
      ],
      "execution_count": null
    },
    {
      "cell_type": "markdown",
      "metadata": {
        "id": "LyxE7KAW_lvS"
      },
      "source": [
        "**Question 14:** Write a Python program to calculate the square of a number."
      ]
    },
    {
      "cell_type": "code",
      "metadata": {
        "id": "v3C2SkB6_lvS"
      },
      "outputs": [],
      "source": [
        "# Your code here"
      ],
      "execution_count": null
    },
    {
      "cell_type": "markdown",
      "metadata": {
        "id": "L31PfhTo_lvT"
      },
      "source": [
        "**Question 15:** Write a Python program to check if a number is even or odd."
      ]
    },
    {
      "cell_type": "code",
      "metadata": {
        "id": "vq26HHD7_lvT"
      },
      "outputs": [],
      "source": [
        "# Your code here"
      ],
      "execution_count": null
    },
    {
      "cell_type": "markdown",
      "metadata": {
        "id": "P28IzadJ_lvT"
      },
      "source": [
        "**Question 16:** Write a Python program to find the sum of the first n natural numbers."
      ]
    },
    {
      "cell_type": "code",
      "metadata": {
        "id": "sA1yH5gg_lvT"
      },
      "outputs": [],
      "source": [
        "# Your code here"
      ],
      "execution_count": null
    },
    {
      "cell_type": "markdown",
      "metadata": {
        "id": "uxJ1RJwc_lvU"
      },
      "source": [
        "**Question 17:** Write a Python program to check if a year is a leap year."
      ]
    },
    {
      "cell_type": "code",
      "metadata": {
        "id": "_qBjtTs2_lvU"
      },
      "outputs": [],
      "source": [
        "# Your code here"
      ],
      "execution_count": null
    },
    {
      "cell_type": "markdown",
      "metadata": {
        "id": "hEA_2sLG_lvV"
      },
      "source": [
        "**Question 18:** Write a Python program to reverse a string."
      ]
    },
    {
      "cell_type": "code",
      "metadata": {
        "id": "phKhl1X7_lvV"
      },
      "outputs": [],
      "source": [
        "# Your code here"
      ],
      "execution_count": null
    },
    {
      "cell_type": "markdown",
      "metadata": {
        "id": "z_xX1sMx_lvW"
      },
      "source": [
        "**Question 19:** Write a Python program to check if a string is a palindrome."
      ]
    },
    {
      "cell_type": "code",
      "metadata": {
        "id": "8W1kcSKg_lvW"
      },
      "outputs": [],
      "source": [
        "# Your code here"
      ],
      "execution_count": null
    },
    {
      "cell_type": "markdown",
      "metadata": {
        "id": "fLU5eW4b_lvY"
      },
      "source": [
        "**Question 20:** Write a Python program to sort a list of numbers in ascending order."
      ]
    },
    {
      "cell_type": "code",
      "metadata": {
        "id": "WPnIo9oj_lvZ"
      },
      "outputs": [],
      "source": [
        "# Your code here"
      ],
      "execution_count": null
    }
  ],
  "metadata": {
    "kernelspec": {
      "display_name": "Python 3",
      "language": "python",
      "name": "python3"
    },
    "language_info": {
      "codemirror_mode": {
        "name": "ipython",
        "version": 3
      },
      "file_extension": ".py",
      "mimetype": "text/x-python",
      "name": "python",
      "nbconvert_exporter": "python",
      "pygments_lexer": "ipython3",
      "version": "3.8.5"
    },
    "colab": {
      "provenance": [],
      "include_colab_link": true
    }
  },
  "nbformat": 4,
  "nbformat_minor": 0
}